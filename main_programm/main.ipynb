{
 "cells": [
  {
   "attachments": {},
   "cell_type": "markdown",
   "metadata": {},
   "source": [
    "# Agent-based energy network model"
   ]
  },
  {
   "attachments": {},
   "cell_type": "markdown",
   "metadata": {},
   "source": [
    "## Imports:"
   ]
  },
  {
   "cell_type": "code",
   "execution_count": 41,
   "metadata": {},
   "outputs": [],
   "source": [
    "import numpy as np\n",
    "import matplotlib.pyplot as plt\n",
    "from simulation import link_agents, distr_energy1, simulate, create_and_simulate\n",
    "from plot import plot_prod_index_conlengths\n",
    "import locations"
   ]
  },
  {
   "cell_type": "code",
   "execution_count": 46,
   "metadata": {},
   "outputs": [
    {
     "name": "stdout",
     "output_type": "stream",
     "text": [
      "[[   0.            0.            0.        ]\n",
      " [   0.           54.16666667    0.        ]\n",
      " [   0.          108.33333333    0.        ]\n",
      " ...\n",
      " [1300.         1191.66666667    0.        ]\n",
      " [1300.         1245.83333333    0.        ]\n",
      " [1300.         1300.            0.        ]]\n",
      "0.24 0.19117647058823528 0.7048165137614679\n"
     ]
    }
   ],
   "source": [
    "base_pro_profile = np.array([0, 0, 0, 0, 0, 0, 0, 0, 20, 20, 40, 40, 60, 60,\n",
    "                                 40, 40, 20, 20, 0, 0, 0, 0, 0, 0])\n",
    "base_con_profile = np.array([2, 2, 2, 2, 2, 2, 12, 12, 12, 10, 10, 10, 10,\n",
    "                                15, 15, 15, 12, 12, 12, 20, 20, 20, 10, 10])\n",
    "prod_per = np.linspace(0.1, 1, 10)\n",
    "con_lengths = np.linspace(50, 200, 4)\n",
    "\n",
    "pos = locations.grid(1300, 1000, 3)\n",
    "prod= np.array([[bool(i[2]), False] for i in pos])\n",
    "\n",
    "links_per, energy_loss_per, supply_per = create_and_simulate(\n",
    "    link_agents,\n",
    "    distr_energy1,\n",
    "    base_con_profile,\n",
    "    base_pro_profile,\n",
    "    con_lengths[0],\n",
    "    positions=pos[:, 0:2],\n",
    "    producers_reservoir=prod\n",
    ")\n",
    "\n",
    "print(links_per, energy_loss_per, supply_per)"
   ]
  }
 ],
 "metadata": {
  "kernelspec": {
   "display_name": "Python 3",
   "language": "python",
   "name": "python3"
  },
  "language_info": {
   "codemirror_mode": {
    "name": "ipython",
    "version": 3
   },
   "file_extension": ".py",
   "mimetype": "text/x-python",
   "name": "python",
   "nbconvert_exporter": "python",
   "pygments_lexer": "ipython3",
   "version": "3.10.3 (v3.10.3:a342a49189, Mar 16 2022, 09:34:18) [Clang 13.0.0 (clang-1300.0.29.30)]"
  },
  "orig_nbformat": 4,
  "vscode": {
   "interpreter": {
    "hash": "aee8b7b246df8f9039afb4144a1f6fd8d2ca17a180786b69acc140d282b71a49"
   }
  }
 },
 "nbformat": 4,
 "nbformat_minor": 2
}
